{
 "cells": [
  {
   "cell_type": "code",
   "execution_count": 1,
   "id": "497bfe26-7758-4e98-88c0-1de957c3df7f",
   "metadata": {
    "tags": []
   },
   "outputs": [
    {
     "name": "stderr",
     "output_type": "stream",
     "text": [
      "\u001b[32m\u001b[1m  Activating\u001b[22m\u001b[39m project at `/blue/raquel.dias/nicks/protein_prediction/structuralFeatures/ISMBExample`\n"
     ]
    }
   ],
   "source": [
    "using Pkg\n",
    "Pkg.activate(\".\")\n",
    "using DataFrames, JSON3, SurrealDB, Arrow, CSV, Dates, FreqTables, ProgressMeter, Flux, CUDA"
   ]
  },
  {
   "cell_type": "code",
   "execution_count": 2,
   "id": "5d34ce82-ea4b-472f-99ad-97d415f64696",
   "metadata": {
    "tags": []
   },
   "outputs": [],
   "source": [
    "@assert CUDA.functional() "
   ]
  },
  {
   "cell_type": "markdown",
   "id": "00d11446-89f9-4da9-b657-b6005b6884c6",
   "metadata": {
    "tags": []
   },
   "source": [
    "## Helper Function Definitions"
   ]
  },
  {
   "cell_type": "code",
   "execution_count": 14,
   "id": "1e42f4cf-d240-46aa-b08a-bac474cf57b5",
   "metadata": {
    "tags": []
   },
   "outputs": [
    {
     "data": {
      "text/plain": [
       "trainBatches (generic function with 1 method)"
      ]
     },
     "execution_count": 14,
     "metadata": {},
     "output_type": "execute_result"
    }
   ],
   "source": [
    "function fetch_features(featQuery::String,features::Vector{String};connection::SurrealConnection=conn,batch_size=5000)\n",
    "    out = []\n",
    "    chunks = Iterators.partition(features, batch_size) |> collect\n",
    "    for i in 1:length(chunks)\n",
    "        print(\"\\rFetching batch $i of $(length(chunks))\")\n",
    "        cmd = replace(featQuery,\"{{features}}\" => \"[$(join(chunks[i],\",\"))]\")\n",
    "        resp = query(conn,cmd)\n",
    "        res = resp.result[1].result\n",
    "        println(\" Batch $i complete in $(resp.result[1].time)\")\n",
    "        push!(out,res...)\n",
    "    end\n",
    "    return out\n",
    "end\n",
    "\n",
    "function fetchDatasets()\n",
    "    query(conn,\"SELECT name,id from datasets\").result[1].result\n",
    "end\n",
    "\n",
    "function getDatasetFeatureIDs(datasetID::String)\n",
    "    println(\"Retrieving all feature records for $datasetID\")\n",
    "    feature_query = \"\"\"\n",
    "select\n",
    "    value features\n",
    "from\n",
    "    protein\n",
    "where\n",
    "    datasets contains $datasetID\"\"\"\n",
    "    return query(conn,feature_query).result[1].result\n",
    "end\n",
    "function getDatasetPrecomputed(datasetID::String)\n",
    "    query(conn, \"select value precomputed_components.*.* from $(datasetID)\").result[1].result[1] |> DataFrame\n",
    "end\n",
    "\n",
    "function getPrecompURI(component_id::String)\n",
    "    q = \"\"\"select value uri from $component_id\"\"\"\n",
    "    res =  query(conn,q).result[1].result\n",
    "    return length(res) == 0 ? nothing : first(res) \n",
    "end\n",
    "\n",
    "function featureResultToDF(results::Vector, feature_col_name::String,label_col_name::String)\n",
    "    d = DataFrame()\n",
    "    for i in results\n",
    "        d[!,i[label_col_name]] = i[feature_col_name]\n",
    "    end\n",
    "    d\n",
    "end\n",
    "\n",
    "function getData(run_declarations::Vector{Dict{String, String}})\n",
    "    fetchedDatasetIDs = []\n",
    "    fetchedDatasets = Dict()\n",
    "    map(run_declarations) do x\n",
    "    @time begin\n",
    "        @assert issubset([\"runName\",\"datasetID\",\"featureName\",\"sampleNameCol\",\"featureQuery\",\"modelSaveLoc\"],keys(x)) \"Missing declarations\"\n",
    "        println(\"processing $(x[\"runName\"])...\")\n",
    "        datasetID = x[\"datasetID\"]\n",
    "        if datasetID in fetchedDatasetIDs\n",
    "            println(\"Feature records for $datasetID already retrieved, using cached values.\")\n",
    "            featureIDs = fetchedDatasets[datasetID]\n",
    "        else\n",
    "            featureIDs = getDatasetFeatureIDs(datasetID)\n",
    "            println(\"Caching feature records for future batches.\")\n",
    "            fetchedDatasets[datasetID] = featureIDs\n",
    "        end\n",
    "        push!(fetchedDatasetIDs,datasetID)\n",
    "        data = fetch_features(x[\"featureQuery\"],featureIDs[1:end],batch_size = 15000)\n",
    "        df = featureResultToDF(data,x[\"featureName\"],x[\"sampleNameCol\"]) |> y->convert.(Float32,y)\n",
    "        additions = Dict(\n",
    "            \"pipeline_featureIDs\" => featureIDs,\n",
    "            \"pipeline_data\" =>  data,\n",
    "            \"pipeline_df\" => df,\n",
    "            \"pipeline_featureDims\" => size(df),\n",
    "            )\n",
    "        merge(x,additions)\n",
    "    end\n",
    "    end\n",
    "end\n",
    "\n",
    "function accuracy(results, truth)\n",
    "    count(results .== truth) / length(truth)\n",
    "end\n",
    "\n",
    "function trainBatches(run_declarations::Vector{Dict{String, String}};debug=false)\n",
    "    map(run_declarations) do batch\n",
    "         println(\"Starting DataRetrieval for run $(batch[\"runName\"])\")\n",
    "        x = getData([batch])[1]\n",
    "        train_protein_ids = names(x[\"pipeline_df\"])\n",
    "        labels_df = DataFrame([i=>Float32[] for i in top_terms])\n",
    "        println(\"Creating labels for run $(x[\"runName\"])\")\n",
    "        @showprogress for id in train_protein_ids\n",
    "            df = gdf[(id,)]\n",
    "            row = [i in df.term ? 1.0 : 0.0 for i in top_terms]\n",
    "            push!(labels_df,row)\n",
    "        end \n",
    "        INPUT_SHAPE = x[\"pipeline_featureDims\"][1]\n",
    "        BATCH_SIZE = 5120\n",
    "        gpu_model = Chain(\n",
    "            BatchNorm(INPUT_SHAPE;eps = 0.001f0, momentum=0.99f0),\n",
    "            Dense(INPUT_SHAPE=>512,relu),\n",
    "            Dense(512=>512,relu),\n",
    "            Dense(512=>512,relu),\n",
    "            Dense(512=>num_labels,sigmoid)\n",
    "        ) |> gpu\n",
    "        train_matrix = Matrix(x[\"pipeline_df\"])\n",
    "        label_matrix = permutedims(Matrix(labels_df))\n",
    "        gpu_loader = Flux.DataLoader((train_matrix, label_matrix) ,batchsize = BATCH_SIZE) |> gpu\n",
    "        gpu_optim = Flux.setup(Flux.Adam(0.001,(0.9,0.999),1.0e-7), gpu_model) \n",
    "        gpu_losses = []\n",
    "        println(\"Starting training for run $(x[\"runName\"])\")\n",
    "        if debug\n",
    "            println([\"trainMatrix\"=>size(train_matrix), \"label_matrix\"=>size(label_matrix),\"model\"=>gpu_model,\"gpuLoader\" => gpu_loader])\n",
    "        end\n",
    "        @showprogress for epoch in 1:5\n",
    "            for (x, y) in gpu_loader\n",
    "                loss, grads = Flux.withgradient(gpu_model) do m\n",
    "                    # Evaluate model and loss inside gradient context:\n",
    "                    y_hat = m(x)\n",
    "                    Flux.binarycrossentropy(y_hat,y)\n",
    "                end\n",
    "                Flux.update!(gpu_optim, gpu_model, grads[1])\n",
    "                push!(gpu_losses, loss)  # logging, outside gradient context\n",
    "            end\n",
    "        end\n",
    "       println(\"Training complete for run $(x[\"runName\"])\")\n",
    "        cpu_model = cpu(gpu_model)\n",
    "        testmode!(cpu_model)\n",
    "        res = cpu_model(train_matrix)\n",
    "        binres = [i >= 0.5 ? 1.0 : 0 for i in res]\n",
    "        acc = accuracy(binres,label_matrix)\n",
    "        resultDict = Dict(\n",
    "            \"result_loss\" => gpu_losses,\n",
    "            \"result_model\" => gpu_model,\n",
    "            \"result_modelState\" => Flux.state(gpu_model),\n",
    "            \"result_binaryAccuracy\" => acc,\n",
    "            \"result_testingModel\" => cpu_model,\n",
    "            )\n",
    "        \n",
    "        merge(x,resultDict)\n",
    "    end\n",
    "end"
   ]
  },
  {
   "cell_type": "code",
   "execution_count": 1,
   "id": "b4460782-bc4b-4c85-8f70-3ee35575e33c",
   "metadata": {},
   "outputs": [
    {
     "name": "stdout",
     "output_type": "stream",
     "text": [
      "\n",
      " .d8888b.                                             888 8888888b.  888888b.\n",
      "d88P  Y88b                                            888 888  'Y88b 888  '88b\n",
      "Y88b.                                                 888 888    888 888  .88P\n",
      " 'Y888b.   888  888 888d888 888d888  .d88b.   8888b.  888 888    888 8888888K.\n",
      "    'Y88b. 888  888 888P'   888P'   d8P  Y8b     '88b 888 888    888 888  'Y88b\n",
      "      '888 888  888 888     888     88888888 .d888888 888 888    888 888    888\n",
      "Y88b  d88P Y88b 888 888     888     Y8b.     888  888 888 888  .d88P 888   d88P\n",
      " 'Y8888P'   'Y88888 888     888      'Y8888  'Y888888 888 8888888P'  8888888P'\n",
      "\n",
      "\n"
     ]
    },
    {
     "name": "stderr",
     "output_type": "stream",
     "text": [
      "\u001b[2m2024-07-14T22:42:46.019823Z\u001b[0m \u001b[32m INFO\u001b[0m \u001b[2msurreal::env\u001b[0m\u001b[2m:\u001b[0m Running 1.5.0 for linux on x86_64\n",
      "\u001b[2m2024-07-14T22:42:46.019858Z\u001b[0m \u001b[32m INFO\u001b[0m \u001b[2msurreal::dbs\u001b[0m\u001b[2m:\u001b[0m ✅🔒 Authentication is enabled 🔒✅\n",
      "\u001b[2m2024-07-14T22:42:46.020679Z\u001b[0m \u001b[32m INFO\u001b[0m \u001b[2msurrealdb_core::kvs::ds\u001b[0m\u001b[2m:\u001b[0m Starting kvs store at file://../blue.raquel.dias/nicks/protein_prediction/structuralFeatures/ismb.db\n",
      "\u001b[2m2024-07-14T22:42:46.419665Z\u001b[0m \u001b[32m INFO\u001b[0m \u001b[2msurrealdb_core::kvs::ds\u001b[0m\u001b[2m:\u001b[0m Started kvs store at file://../blue.raquel.dias/nicks/protein_prediction/structuralFeatures/ismb.db\n",
      "\u001b[2m2024-07-14T22:42:46.444290Z\u001b[0m \u001b[32m INFO\u001b[0m \u001b[2msurrealdb::net\u001b[0m\u001b[2m:\u001b[0m Started web server on 0.0.0.0:8000\n"
     ]
    }
   ],
   "source": [
    "io = open(`bash`,\"w\",stdout)\n",
    "write(io,\"ml surrealdb/1.5.0 && surreal start --auth --allow-all file:../blue.raquel.dias/nicks/protein_prediction/structuralFeatures/ismb.db\")\n",
    "sleep(7)\n",
    "close(io)"
   ]
  },
  {
   "cell_type": "code",
   "execution_count": 5,
   "id": "f6027635-0311-4481-b072-9facebae5c9b",
   "metadata": {},
   "outputs": [
    {
     "name": "stdout",
     "output_type": "stream",
     "text": [
      "\n",
      " .d8888b.                                             888 8888888b.  888888b.\n",
      "d88P  Y88b                                            888 888  'Y88b 888  '88b\n",
      "Y88b.                                                 888 888    888 888  .88P\n",
      " 'Y888b.   888  888 888d888 888d888  .d88b.   8888b.  888 888    888 8888888K.\n",
      "    'Y88b. 888  888 888P'   888P'   d8P  Y8b     '88b 888 888    888 888  'Y88b\n",
      "      '888 888  888 888     888     88888888 .d888888 888 888    888 888    888\n",
      "Y88b  d88P Y88b 888 888     888     Y8b.     888  888 888 888  .d88P 888   d88P\n",
      " 'Y8888P'   'Y88888 888     888      'Y8888  'Y888888 888 8888888P'  8888888P'\n",
      "\n",
      "\n"
     ]
    },
    {
     "name": "stderr",
     "output_type": "stream",
     "text": [
      "\u001b[2m2024-06-29T23:18:13.287535Z\u001b[0m \u001b[32m INFO\u001b[0m \u001b[2msurreal::env\u001b[0m\u001b[2m:\u001b[0m Running 1.5.0 for linux on x86_64\n",
      "\u001b[2m2024-06-29T23:18:13.287552Z\u001b[0m \u001b[32m INFO\u001b[0m \u001b[2msurreal::dbs\u001b[0m\u001b[2m:\u001b[0m ✅🔒 Authentication is enabled 🔒✅\n",
      "\u001b[2m2024-06-29T23:18:13.287565Z\u001b[0m \u001b[32m INFO\u001b[0m \u001b[2msurrealdb_core::kvs::ds\u001b[0m\u001b[2m:\u001b[0m Starting kvs store at file://../blue.raquel.dias/nicks/protein_prediction/structuralFeatures/ismb.db\n",
      "\u001b[2m2024-06-29T23:18:13.485613Z\u001b[0m \u001b[32m INFO\u001b[0m \u001b[2msurrealdb_core::kvs::ds\u001b[0m\u001b[2m:\u001b[0m Started kvs store at file://../blue.raquel.dias/nicks/protein_prediction/structuralFeatures/ismb.db\n",
      "\u001b[2m2024-06-29T23:18:13.510143Z\u001b[0m \u001b[32m INFO\u001b[0m \u001b[2msurrealdb::net\u001b[0m\u001b[2m:\u001b[0m Started web server on 0.0.0.0:8000\n"
     ]
    }
   ],
   "source": [
    "begin\n",
    "    conn = SurrealConnection(\"ws://localhost:8000/rpc\",\"diaslab\",\"examplePW\")\n",
    "    conn.ns = \"diaslab\"\n",
    "    conn.db = \"ismb\"\n",
    "    signin(conn)\n",
    "    use(conn)\n",
    "end\n",
    "query(conn,\"info for db\").result;"
   ]
  },
  {
   "cell_type": "markdown",
   "id": "cc57a5c4-adc1-48e3-a966-4838f92b0f8a",
   "metadata": {},
   "source": [
    "## Model Training Workflow\n",
    "* Declare the pipeline parameters for each run\n",
    "    1. Declare the dataset of interest\n",
    "    2. Define the feature query\n",
    "    3. Declare the feature name column and sample name column\n",
    "    4. Declare the save location\n",
    "* Pipeline will run in series\n",
    "    1. Fetch specified data from database\n",
    "    2. Train model\n",
    "    3. Return and/or save the results to the save location"
   ]
  },
  {
   "cell_type": "markdown",
   "id": "b713624f-c4e2-4049-9a0f-3935fd656310",
   "metadata": {},
   "source": [
    "### Find Available Datasets"
   ]
  },
  {
   "cell_type": "code",
   "execution_count": 6,
   "id": "09f448e6-a8ff-41c8-91b5-751dbc11c18c",
   "metadata": {
    "tags": []
   },
   "outputs": [
    {
     "data": {
      "text/plain": [
       "1-element JSON3.Array{JSON3.Object, Base.CodeUnits{UInt8, String}, SubArray{UInt64, 1, Vector{UInt64}, Tuple{UnitRange{Int64}}, true}}:\n",
       " {\n",
       "     \"id\": \"datasets:61u6akz831fm28kc2o7v\",\n",
       "   \"name\": \"CAFA5 Train\"\n",
       "}"
      ]
     },
     "execution_count": 6,
     "metadata": {},
     "output_type": "execute_result"
    }
   ],
   "source": [
    "fetchDatasets()"
   ]
  },
  {
   "cell_type": "markdown",
   "id": "53bc4f8d-47ff-4f32-ae23-89b1fe5ab3f1",
   "metadata": {
    "tags": []
   },
   "source": [
    "## Declare the run parameters"
   ]
  },
  {
   "cell_type": "code",
   "execution_count": 7,
   "id": "13a01c2c-dc49-4c13-8ff5-468e3bf8b79f",
   "metadata": {
    "tags": []
   },
   "outputs": [
    {
     "data": {
      "text/plain": [
       "3-element Vector{Dict{String, String}}:\n",
       " Dict(\"datasetID\" => \"datasets:61u6akz831fm28kc2o7v\", \"modelSaveLoc\" => \"./models\", \"runName\" => \"CAFAT5Embeddings_NN\", \"sampleNameCol\" => \"uniprot_id\", \"featureQuery\" => \"select feature_t5_embed as t5 ,uniprot_id from {{features}}\", \"featureName\" => \"t5\")\n",
       " Dict(\"datasetID\" => \"datasets:61u6akz831fm28kc2o7v\", \"modelSaveLoc\" => \"./models\", \"runName\" => \"CAFAESMEmbeddings_NN\", \"sampleNameCol\" => \"uniprot_id\", \"featureQuery\" => \"select feature_esm_embed as esm ,uniprot_id from {{features}}\", \"featureName\" => \"esm\")\n",
       " Dict(\"datasetID\" => \"datasets:61u6akz831fm28kc2o7v\", \"modelSaveLoc\" => \"./models\", \"runName\" => \"CAFACombinedT5ESMEmbeddings_NN\", \"sampleNameCol\" => \"uniprot_id\", \"featureQuery\" => \"select array::flatten([feature_t5_embed, feature_esm_embed]) as combined ,uniprot_id from {{features}}\", \"featureName\" => \"combined\")"
      ]
     },
     "execution_count": 7,
     "metadata": {},
     "output_type": "execute_result"
    }
   ],
   "source": [
    "run_declarations = [\n",
    "    Dict(\n",
    "        \"runName\" => \"CAFAT5Embeddings_NN\",\n",
    "        \"datasetID\" => \"datasets:61u6akz831fm28kc2o7v\",\n",
    "        \"featureName\" => \"t5\",\n",
    "        \"sampleNameCol\" => \"uniprot_id\",\n",
    "        \"featureQuery\" =>  \"\"\"select feature_t5_embed as t5 ,uniprot_id from {{features}}\"\"\",\n",
    "        \"modelSaveLoc\" => \"./models\"\n",
    "    ),\n",
    "    Dict(\n",
    "        \"runName\" => \"CAFAESMEmbeddings_NN\",\n",
    "        \"datasetID\" => \"datasets:61u6akz831fm28kc2o7v\",\n",
    "        \"featureName\" => \"esm\",\n",
    "        \"sampleNameCol\" => \"uniprot_id\",\n",
    "        \"featureQuery\" =>  \"\"\"select feature_esm_embed as esm ,uniprot_id from {{features}}\"\"\",\n",
    "        \"modelSaveLoc\" => \"./models\"\n",
    "    ),\n",
    "    Dict(\n",
    "        \"runName\" => \"CAFACombinedT5ESMEmbeddings_NN\",\n",
    "        \"datasetID\" => \"datasets:61u6akz831fm28kc2o7v\",\n",
    "        \"featureName\" => \"combined\",\n",
    "        \"sampleNameCol\" => \"uniprot_id\",\n",
    "        \"featureQuery\" =>  \"\"\"select array::flatten([feature_t5_embed, feature_esm_embed]) as combined ,uniprot_id from {{features}}\"\"\",\n",
    "        \"modelSaveLoc\" => \"./models\"\n",
    "        )\n",
    "    ]"
   ]
  },
  {
   "cell_type": "markdown",
   "id": "b94a7ec0-113a-4212-b469-893e9b885ca1",
   "metadata": {
    "tags": []
   },
   "source": [
    "## Example of using Precomputed Resource\n",
    "Start by querying what precomputed resources are available"
   ]
  },
  {
   "cell_type": "code",
   "execution_count": 8,
   "id": "18c9ec53-15d2-4cee-9f92-41222b1bf1c5",
   "metadata": {
    "tags": []
   },
   "outputs": [
    {
     "data": {
      "text/html": [
       "<div><div style = \"float: left;\"><span>2×5 DataFrame</span></div><div style = \"clear: both;\"></div></div><div class = \"data-frame\" style = \"overflow-x: scroll;\"><table class = \"data-frame\" style = \"margin-bottom: 6px;\"><thead><tr class = \"header\"><th class = \"rowNumber\" style = \"font-weight: bold; text-align: right;\">Row</th><th style = \"text-align: left;\">component_description</th><th style = \"text-align: left;\">component_name</th><th style = \"text-align: left;\">id</th><th style = \"text-align: left;\">modified</th><th style = \"text-align: left;\">uri</th></tr><tr class = \"subheader headerLastRow\"><th class = \"rowNumber\" style = \"font-weight: bold; text-align: right;\"></th><th title = \"String\" style = \"text-align: left;\">String</th><th title = \"String\" style = \"text-align: left;\">String</th><th title = \"String\" style = \"text-align: left;\">String</th><th title = \"String\" style = \"text-align: left;\">String</th><th title = \"String\" style = \"text-align: left;\">String</th></tr></thead><tbody><tr><td class = \"rowNumber\" style = \"font-weight: bold; text-align: right;\">1</td><td style = \"text-align: left;\">UniProt Accession IDs for CAFA5 Dataset elements with GO terms in the uniprot_meta</td><td style = \"text-align: left;\">Protein Accessions with GO Terms</td><td style = \"text-align: left;\">precomputed:58spmd3q53lthnopvkow</td><td style = \"text-align: left;\">2024-06-27T22:09:49.538797390Z</td><td style = \"text-align: left;\">/blue/raquel.dias/nicks/protein_prediction/structuralFeatures/ISMBExample/assets/DBProteinsWithTerms.arrow</td></tr><tr><td class = \"rowNumber\" style = \"font-weight: bold; text-align: right;\">2</td><td style = \"text-align: left;\">Official train_terms.tsv file from CAFA5 competition saved in arrow format</td><td style = \"text-align: left;\">train_terms</td><td style = \"text-align: left;\">precomputed:xjzqzx9zird2frkwoh7a</td><td style = \"text-align: left;\">2024-06-27T22:58:12.257422551Z</td><td style = \"text-align: left;\">/blue/raquel.dias/nicks/protein_prediction/structuralFeatures/ISMBExample/assets/cafa_train_terms.arrow</td></tr></tbody></table></div>"
      ],
      "text/latex": [
       "\\begin{tabular}{r|cc}\n",
       "\t& component\\_description & \\\\\n",
       "\t\\hline\n",
       "\t& String & \\\\\n",
       "\t\\hline\n",
       "\t1 & UniProt Accession IDs for CAFA5 Dataset elements with GO terms in the uniprot\\_meta & $\\dots$ \\\\\n",
       "\t2 & Official train\\_terms.tsv file from CAFA5 competition saved in arrow format & $\\dots$ \\\\\n",
       "\\end{tabular}\n"
      ],
      "text/plain": [
       "\u001b[1m2×5 DataFrame\u001b[0m\n",
       "\u001b[1m Row \u001b[0m│\u001b[1m component_description             \u001b[0m\u001b[1m component_name                   \u001b[0m\u001b[1m id\u001b[0m ⋯\n",
       "     │\u001b[90m String                            \u001b[0m\u001b[90m String                           \u001b[0m\u001b[90m St\u001b[0m ⋯\n",
       "─────┼──────────────────────────────────────────────────────────────────────────\n",
       "   1 │ UniProt Accession IDs for CAFA5 …  Protein Accessions with GO Terms  pr ⋯\n",
       "   2 │ Official train_terms.tsv file fr…  train_terms                       pr\n",
       "\u001b[36m                                                               3 columns omitted\u001b[0m"
      ]
     },
     "execution_count": 8,
     "metadata": {},
     "output_type": "execute_result"
    }
   ],
   "source": [
    "getDatasetPrecomputed(\"datasets:61u6akz831fm28kc2o7v\")"
   ]
  },
  {
   "cell_type": "code",
   "execution_count": 9,
   "id": "270359b6-d391-4b1d-add3-46fae086c971",
   "metadata": {
    "tags": []
   },
   "outputs": [
    {
     "data": {
      "text/html": [
       "<div><div style = \"float: left;\"><span>5363863×3 DataFrame</span></div><div style = \"float: right;\"><span style = \"font-style: italic;\">5363838 rows omitted</span></div><div style = \"clear: both;\"></div></div><div class = \"data-frame\" style = \"overflow-x: scroll;\"><table class = \"data-frame\" style = \"margin-bottom: 6px;\"><thead><tr class = \"header\"><th class = \"rowNumber\" style = \"font-weight: bold; text-align: right;\">Row</th><th style = \"text-align: left;\">EntryID</th><th style = \"text-align: left;\">term</th><th style = \"text-align: left;\">aspect</th></tr><tr class = \"subheader headerLastRow\"><th class = \"rowNumber\" style = \"font-weight: bold; text-align: right;\"></th><th title = \"String15\" style = \"text-align: left;\">String15</th><th title = \"String15\" style = \"text-align: left;\">String15</th><th title = \"String3\" style = \"text-align: left;\">String3</th></tr></thead><tbody><tr><td class = \"rowNumber\" style = \"font-weight: bold; text-align: right;\">1</td><td style = \"text-align: left;\">A0A009IHW8</td><td style = \"text-align: left;\">GO:0008152</td><td style = \"text-align: left;\">BPO</td></tr><tr><td class = \"rowNumber\" style = \"font-weight: bold; text-align: right;\">2</td><td style = \"text-align: left;\">A0A009IHW8</td><td style = \"text-align: left;\">GO:0034655</td><td style = \"text-align: left;\">BPO</td></tr><tr><td class = \"rowNumber\" style = \"font-weight: bold; text-align: right;\">3</td><td style = \"text-align: left;\">A0A009IHW8</td><td style = \"text-align: left;\">GO:0072523</td><td style = \"text-align: left;\">BPO</td></tr><tr><td class = \"rowNumber\" style = \"font-weight: bold; text-align: right;\">4</td><td style = \"text-align: left;\">A0A009IHW8</td><td style = \"text-align: left;\">GO:0044270</td><td style = \"text-align: left;\">BPO</td></tr><tr><td class = \"rowNumber\" style = \"font-weight: bold; text-align: right;\">5</td><td style = \"text-align: left;\">A0A009IHW8</td><td style = \"text-align: left;\">GO:0006753</td><td style = \"text-align: left;\">BPO</td></tr><tr><td class = \"rowNumber\" style = \"font-weight: bold; text-align: right;\">6</td><td style = \"text-align: left;\">A0A009IHW8</td><td style = \"text-align: left;\">GO:1901292</td><td style = \"text-align: left;\">BPO</td></tr><tr><td class = \"rowNumber\" style = \"font-weight: bold; text-align: right;\">7</td><td style = \"text-align: left;\">A0A009IHW8</td><td style = \"text-align: left;\">GO:0044237</td><td style = \"text-align: left;\">BPO</td></tr><tr><td class = \"rowNumber\" style = \"font-weight: bold; text-align: right;\">8</td><td style = \"text-align: left;\">A0A009IHW8</td><td style = \"text-align: left;\">GO:1901360</td><td style = \"text-align: left;\">BPO</td></tr><tr><td class = \"rowNumber\" style = \"font-weight: bold; text-align: right;\">9</td><td style = \"text-align: left;\">A0A009IHW8</td><td style = \"text-align: left;\">GO:0008150</td><td style = \"text-align: left;\">BPO</td></tr><tr><td class = \"rowNumber\" style = \"font-weight: bold; text-align: right;\">10</td><td style = \"text-align: left;\">A0A009IHW8</td><td style = \"text-align: left;\">GO:1901564</td><td style = \"text-align: left;\">BPO</td></tr><tr><td class = \"rowNumber\" style = \"font-weight: bold; text-align: right;\">11</td><td style = \"text-align: left;\">A0A009IHW8</td><td style = \"text-align: left;\">GO:1901565</td><td style = \"text-align: left;\">BPO</td></tr><tr><td class = \"rowNumber\" style = \"font-weight: bold; text-align: right;\">12</td><td style = \"text-align: left;\">A0A009IHW8</td><td style = \"text-align: left;\">GO:0009117</td><td style = \"text-align: left;\">BPO</td></tr><tr><td class = \"rowNumber\" style = \"font-weight: bold; text-align: right;\">13</td><td style = \"text-align: left;\">A0A009IHW8</td><td style = \"text-align: left;\">GO:0006139</td><td style = \"text-align: left;\">BPO</td></tr><tr><td style = \"text-align: right;\">&vellip;</td><td style = \"text-align: right;\">&vellip;</td><td style = \"text-align: right;\">&vellip;</td><td style = \"text-align: right;\">&vellip;</td></tr><tr><td class = \"rowNumber\" style = \"font-weight: bold; text-align: right;\">5363852</td><td style = \"text-align: left;\">X5L1L5</td><td style = \"text-align: left;\">GO:0003674</td><td style = \"text-align: left;\">MFO</td></tr><tr><td class = \"rowNumber\" style = \"font-weight: bold; text-align: right;\">5363853</td><td style = \"text-align: left;\">X5L1L5</td><td style = \"text-align: left;\">GO:0050649</td><td style = \"text-align: left;\">MFO</td></tr><tr><td class = \"rowNumber\" style = \"font-weight: bold; text-align: right;\">5363854</td><td style = \"text-align: left;\">X5L1L5</td><td style = \"text-align: left;\">GO:0016491</td><td style = \"text-align: left;\">MFO</td></tr><tr><td class = \"rowNumber\" style = \"font-weight: bold; text-align: right;\">5363855</td><td style = \"text-align: left;\">X5L565</td><td style = \"text-align: left;\">GO:0003824</td><td style = \"text-align: left;\">MFO</td></tr><tr><td class = \"rowNumber\" style = \"font-weight: bold; text-align: right;\">5363856</td><td style = \"text-align: left;\">X5L565</td><td style = \"text-align: left;\">GO:0004497</td><td style = \"text-align: left;\">MFO</td></tr><tr><td class = \"rowNumber\" style = \"font-weight: bold; text-align: right;\">5363857</td><td style = \"text-align: left;\">X5L565</td><td style = \"text-align: left;\">GO:0008395</td><td style = \"text-align: left;\">MFO</td></tr><tr><td class = \"rowNumber\" style = \"font-weight: bold; text-align: right;\">5363858</td><td style = \"text-align: left;\">X5L565</td><td style = \"text-align: left;\">GO:0003674</td><td style = \"text-align: left;\">MFO</td></tr><tr><td class = \"rowNumber\" style = \"font-weight: bold; text-align: right;\">5363859</td><td style = \"text-align: left;\">X5L565</td><td style = \"text-align: left;\">GO:0050649</td><td style = \"text-align: left;\">MFO</td></tr><tr><td class = \"rowNumber\" style = \"font-weight: bold; text-align: right;\">5363860</td><td style = \"text-align: left;\">X5L565</td><td style = \"text-align: left;\">GO:0016491</td><td style = \"text-align: left;\">MFO</td></tr><tr><td class = \"rowNumber\" style = \"font-weight: bold; text-align: right;\">5363861</td><td style = \"text-align: left;\">X5M5N0</td><td style = \"text-align: left;\">GO:0005515</td><td style = \"text-align: left;\">MFO</td></tr><tr><td class = \"rowNumber\" style = \"font-weight: bold; text-align: right;\">5363862</td><td style = \"text-align: left;\">X5M5N0</td><td style = \"text-align: left;\">GO:0005488</td><td style = \"text-align: left;\">MFO</td></tr><tr><td class = \"rowNumber\" style = \"font-weight: bold; text-align: right;\">5363863</td><td style = \"text-align: left;\">X5M5N0</td><td style = \"text-align: left;\">GO:0003674</td><td style = \"text-align: left;\">MFO</td></tr></tbody></table></div>"
      ],
      "text/latex": [
       "\\begin{tabular}{r|ccc}\n",
       "\t& EntryID & term & aspect\\\\\n",
       "\t\\hline\n",
       "\t& String15 & String15 & String3\\\\\n",
       "\t\\hline\n",
       "\t1 & A0A009IHW8 & GO:0008152 & BPO \\\\\n",
       "\t2 & A0A009IHW8 & GO:0034655 & BPO \\\\\n",
       "\t3 & A0A009IHW8 & GO:0072523 & BPO \\\\\n",
       "\t4 & A0A009IHW8 & GO:0044270 & BPO \\\\\n",
       "\t5 & A0A009IHW8 & GO:0006753 & BPO \\\\\n",
       "\t6 & A0A009IHW8 & GO:1901292 & BPO \\\\\n",
       "\t7 & A0A009IHW8 & GO:0044237 & BPO \\\\\n",
       "\t8 & A0A009IHW8 & GO:1901360 & BPO \\\\\n",
       "\t9 & A0A009IHW8 & GO:0008150 & BPO \\\\\n",
       "\t10 & A0A009IHW8 & GO:1901564 & BPO \\\\\n",
       "\t11 & A0A009IHW8 & GO:1901565 & BPO \\\\\n",
       "\t12 & A0A009IHW8 & GO:0009117 & BPO \\\\\n",
       "\t13 & A0A009IHW8 & GO:0006139 & BPO \\\\\n",
       "\t14 & A0A009IHW8 & GO:0044281 & BPO \\\\\n",
       "\t15 & A0A009IHW8 & GO:0046496 & BPO \\\\\n",
       "\t16 & A0A009IHW8 & GO:0019362 & BPO \\\\\n",
       "\t17 & A0A009IHW8 & GO:0046483 & BPO \\\\\n",
       "\t18 & A0A009IHW8 & GO:0055086 & BPO \\\\\n",
       "\t19 & A0A009IHW8 & GO:0044248 & BPO \\\\\n",
       "\t20 & A0A009IHW8 & GO:0019439 & BPO \\\\\n",
       "\t21 & A0A009IHW8 & GO:0019637 & BPO \\\\\n",
       "\t22 & A0A009IHW8 & GO:0006807 & BPO \\\\\n",
       "\t23 & A0A009IHW8 & GO:0019677 & BPO \\\\\n",
       "\t24 & A0A009IHW8 & GO:1901361 & BPO \\\\\n",
       "\t25 & A0A009IHW8 & GO:0006163 & BPO \\\\\n",
       "\t26 & A0A009IHW8 & GO:0046700 & BPO \\\\\n",
       "\t27 & A0A009IHW8 & GO:0009987 & BPO \\\\\n",
       "\t28 & A0A009IHW8 & GO:0006725 & BPO \\\\\n",
       "\t29 & A0A009IHW8 & GO:0006796 & BPO \\\\\n",
       "\t30 & A0A009IHW8 & GO:0034641 & BPO \\\\\n",
       "\t$\\dots$ & $\\dots$ & $\\dots$ & $\\dots$ \\\\\n",
       "\\end{tabular}\n"
      ],
      "text/plain": [
       "\u001b[1m5363863×3 DataFrame\u001b[0m\n",
       "\u001b[1m     Row \u001b[0m│\u001b[1m EntryID    \u001b[0m\u001b[1m term       \u001b[0m\u001b[1m aspect  \u001b[0m\n",
       "         │\u001b[90m String15   \u001b[0m\u001b[90m String15   \u001b[0m\u001b[90m String3 \u001b[0m\n",
       "─────────┼─────────────────────────────────\n",
       "       1 │ A0A009IHW8  GO:0008152  BPO\n",
       "       2 │ A0A009IHW8  GO:0034655  BPO\n",
       "       3 │ A0A009IHW8  GO:0072523  BPO\n",
       "       4 │ A0A009IHW8  GO:0044270  BPO\n",
       "       5 │ A0A009IHW8  GO:0006753  BPO\n",
       "       6 │ A0A009IHW8  GO:1901292  BPO\n",
       "       7 │ A0A009IHW8  GO:0044237  BPO\n",
       "       8 │ A0A009IHW8  GO:1901360  BPO\n",
       "       9 │ A0A009IHW8  GO:0008150  BPO\n",
       "      10 │ A0A009IHW8  GO:1901564  BPO\n",
       "      11 │ A0A009IHW8  GO:1901565  BPO\n",
       "    ⋮    │     ⋮           ⋮          ⋮\n",
       " 5363854 │ X5L1L5      GO:0016491  MFO\n",
       " 5363855 │ X5L565      GO:0003824  MFO\n",
       " 5363856 │ X5L565      GO:0004497  MFO\n",
       " 5363857 │ X5L565      GO:0008395  MFO\n",
       " 5363858 │ X5L565      GO:0003674  MFO\n",
       " 5363859 │ X5L565      GO:0050649  MFO\n",
       " 5363860 │ X5L565      GO:0016491  MFO\n",
       " 5363861 │ X5M5N0      GO:0005515  MFO\n",
       " 5363862 │ X5M5N0      GO:0005488  MFO\n",
       " 5363863 │ X5M5N0      GO:0003674  MFO\n",
       "\u001b[36m                       5363842 rows omitted\u001b[0m"
      ]
     },
     "execution_count": 9,
     "metadata": {},
     "output_type": "execute_result"
    }
   ],
   "source": [
    "# fetch the uri of the resource using its ID\n",
    "resource_uri = getPrecompURI(\"precomputed:xjzqzx9zird2frkwoh7a\")\n",
    "# load the resource from the given uri\n",
    "train_terms = DataFrame(Arrow.Table(resource_uri))"
   ]
  },
  {
   "cell_type": "markdown",
   "id": "c7752bc2-5d38-4354-974f-aceeafd42d2d",
   "metadata": {
    "tags": []
   },
   "source": [
    "## Create items that will be reused during all training runs"
   ]
  },
  {
   "cell_type": "code",
   "execution_count": 10,
   "id": "44ab3c9d-67d0-4f79-b87b-e86633eb2d13",
   "metadata": {
    "tags": []
   },
   "outputs": [
    {
     "data": {
      "text/html": [
       "<p><b>GroupedDataFrame with 142246 groups based on key: EntryID</b></p><div><div style = \"float: left;\"><span>First Group (35 rows): EntryID = &quot;A0A009IHW8&quot;</span></div><div style = \"float: right;\"><span style = \"font-style: italic;\">10 rows omitted</span></div><div style = \"clear: both;\"></div></div><div class = \"data-frame\" style = \"overflow-x: scroll;\"><table class = \"data-frame\" style = \"margin-bottom: 6px;\"><thead><tr class = \"header\"><th class = \"rowNumber\" style = \"font-weight: bold; text-align: right;\">Row</th><th style = \"text-align: left;\">EntryID</th><th style = \"text-align: left;\">term</th><th style = \"text-align: left;\">aspect</th></tr><tr class = \"subheader headerLastRow\"><th class = \"rowNumber\" style = \"font-weight: bold; text-align: right;\"></th><th title = \"String15\" style = \"text-align: left;\">String15</th><th title = \"String15\" style = \"text-align: left;\">String15</th><th title = \"String3\" style = \"text-align: left;\">String3</th></tr></thead><tbody><tr><td class = \"rowNumber\" style = \"font-weight: bold; text-align: right;\">1</td><td style = \"text-align: left;\">A0A009IHW8</td><td style = \"text-align: left;\">GO:0008152</td><td style = \"text-align: left;\">BPO</td></tr><tr><td class = \"rowNumber\" style = \"font-weight: bold; text-align: right;\">2</td><td style = \"text-align: left;\">A0A009IHW8</td><td style = \"text-align: left;\">GO:0034655</td><td style = \"text-align: left;\">BPO</td></tr><tr><td class = \"rowNumber\" style = \"font-weight: bold; text-align: right;\">3</td><td style = \"text-align: left;\">A0A009IHW8</td><td style = \"text-align: left;\">GO:0044270</td><td style = \"text-align: left;\">BPO</td></tr><tr><td class = \"rowNumber\" style = \"font-weight: bold; text-align: right;\">4</td><td style = \"text-align: left;\">A0A009IHW8</td><td style = \"text-align: left;\">GO:0006753</td><td style = \"text-align: left;\">BPO</td></tr><tr><td class = \"rowNumber\" style = \"font-weight: bold; text-align: right;\">5</td><td style = \"text-align: left;\">A0A009IHW8</td><td style = \"text-align: left;\">GO:0044237</td><td style = \"text-align: left;\">BPO</td></tr><tr><td class = \"rowNumber\" style = \"font-weight: bold; text-align: right;\">6</td><td style = \"text-align: left;\">A0A009IHW8</td><td style = \"text-align: left;\">GO:1901360</td><td style = \"text-align: left;\">BPO</td></tr><tr><td class = \"rowNumber\" style = \"font-weight: bold; text-align: right;\">7</td><td style = \"text-align: left;\">A0A009IHW8</td><td style = \"text-align: left;\">GO:0008150</td><td style = \"text-align: left;\">BPO</td></tr><tr><td class = \"rowNumber\" style = \"font-weight: bold; text-align: right;\">8</td><td style = \"text-align: left;\">A0A009IHW8</td><td style = \"text-align: left;\">GO:1901564</td><td style = \"text-align: left;\">BPO</td></tr><tr><td class = \"rowNumber\" style = \"font-weight: bold; text-align: right;\">9</td><td style = \"text-align: left;\">A0A009IHW8</td><td style = \"text-align: left;\">GO:1901565</td><td style = \"text-align: left;\">BPO</td></tr><tr><td class = \"rowNumber\" style = \"font-weight: bold; text-align: right;\">10</td><td style = \"text-align: left;\">A0A009IHW8</td><td style = \"text-align: left;\">GO:0009117</td><td style = \"text-align: left;\">BPO</td></tr><tr><td class = \"rowNumber\" style = \"font-weight: bold; text-align: right;\">11</td><td style = \"text-align: left;\">A0A009IHW8</td><td style = \"text-align: left;\">GO:0006139</td><td style = \"text-align: left;\">BPO</td></tr><tr><td class = \"rowNumber\" style = \"font-weight: bold; text-align: right;\">12</td><td style = \"text-align: left;\">A0A009IHW8</td><td style = \"text-align: left;\">GO:0044281</td><td style = \"text-align: left;\">BPO</td></tr><tr><td class = \"rowNumber\" style = \"font-weight: bold; text-align: right;\">13</td><td style = \"text-align: left;\">A0A009IHW8</td><td style = \"text-align: left;\">GO:0046483</td><td style = \"text-align: left;\">BPO</td></tr><tr><td style = \"text-align: right;\">&vellip;</td><td style = \"text-align: right;\">&vellip;</td><td style = \"text-align: right;\">&vellip;</td><td style = \"text-align: right;\">&vellip;</td></tr><tr><td class = \"rowNumber\" style = \"font-weight: bold; text-align: right;\">24</td><td style = \"text-align: left;\">A0A009IHW8</td><td style = \"text-align: left;\">GO:0006796</td><td style = \"text-align: left;\">BPO</td></tr><tr><td class = \"rowNumber\" style = \"font-weight: bold; text-align: right;\">25</td><td style = \"text-align: left;\">A0A009IHW8</td><td style = \"text-align: left;\">GO:0034641</td><td style = \"text-align: left;\">BPO</td></tr><tr><td class = \"rowNumber\" style = \"font-weight: bold; text-align: right;\">26</td><td style = \"text-align: left;\">A0A009IHW8</td><td style = \"text-align: left;\">GO:0072521</td><td style = \"text-align: left;\">BPO</td></tr><tr><td class = \"rowNumber\" style = \"font-weight: bold; text-align: right;\">27</td><td style = \"text-align: left;\">A0A009IHW8</td><td style = \"text-align: left;\">GO:0071704</td><td style = \"text-align: left;\">BPO</td></tr><tr><td class = \"rowNumber\" style = \"font-weight: bold; text-align: right;\">28</td><td style = \"text-align: left;\">A0A009IHW8</td><td style = \"text-align: left;\">GO:1901575</td><td style = \"text-align: left;\">BPO</td></tr><tr><td class = \"rowNumber\" style = \"font-weight: bold; text-align: right;\">29</td><td style = \"text-align: left;\">A0A009IHW8</td><td style = \"text-align: left;\">GO:0009056</td><td style = \"text-align: left;\">BPO</td></tr><tr><td class = \"rowNumber\" style = \"font-weight: bold; text-align: right;\">30</td><td style = \"text-align: left;\">A0A009IHW8</td><td style = \"text-align: left;\">GO:0044238</td><td style = \"text-align: left;\">BPO</td></tr><tr><td class = \"rowNumber\" style = \"font-weight: bold; text-align: right;\">31</td><td style = \"text-align: left;\">A0A009IHW8</td><td style = \"text-align: left;\">GO:0006793</td><td style = \"text-align: left;\">BPO</td></tr><tr><td class = \"rowNumber\" style = \"font-weight: bold; text-align: right;\">32</td><td style = \"text-align: left;\">A0A009IHW8</td><td style = \"text-align: left;\">GO:0003674</td><td style = \"text-align: left;\">MFO</td></tr><tr><td class = \"rowNumber\" style = \"font-weight: bold; text-align: right;\">33</td><td style = \"text-align: left;\">A0A009IHW8</td><td style = \"text-align: left;\">GO:0016787</td><td style = \"text-align: left;\">MFO</td></tr><tr><td class = \"rowNumber\" style = \"font-weight: bold; text-align: right;\">34</td><td style = \"text-align: left;\">A0A009IHW8</td><td style = \"text-align: left;\">GO:0016798</td><td style = \"text-align: left;\">MFO</td></tr><tr><td class = \"rowNumber\" style = \"font-weight: bold; text-align: right;\">35</td><td style = \"text-align: left;\">A0A009IHW8</td><td style = \"text-align: left;\">GO:0003824</td><td style = \"text-align: left;\">MFO</td></tr></tbody></table></div><p>&vellip;</p><div><div style = \"float: left;\"><span>Last Group (3 rows): EntryID = &quot;X5HMX4&quot;</span></div><div style = \"clear: both;\"></div></div><div class = \"data-frame\" style = \"overflow-x: scroll;\"><table class = \"data-frame\" style = \"margin-bottom: 6px;\"><thead><tr class = \"header\"><th class = \"rowNumber\" style = \"font-weight: bold; text-align: right;\">Row</th><th style = \"text-align: left;\">EntryID</th><th style = \"text-align: left;\">term</th><th style = \"text-align: left;\">aspect</th></tr><tr class = \"subheader headerLastRow\"><th class = \"rowNumber\" style = \"font-weight: bold; text-align: right;\"></th><th title = \"String15\" style = \"text-align: left;\">String15</th><th title = \"String15\" style = \"text-align: left;\">String15</th><th title = \"String3\" style = \"text-align: left;\">String3</th></tr></thead><tbody><tr><td class = \"rowNumber\" style = \"font-weight: bold; text-align: right;\">1</td><td style = \"text-align: left;\">X5HMX4</td><td style = \"text-align: left;\">GO:0005515</td><td style = \"text-align: left;\">MFO</td></tr><tr><td class = \"rowNumber\" style = \"font-weight: bold; text-align: right;\">2</td><td style = \"text-align: left;\">X5HMX4</td><td style = \"text-align: left;\">GO:0005488</td><td style = \"text-align: left;\">MFO</td></tr><tr><td class = \"rowNumber\" style = \"font-weight: bold; text-align: right;\">3</td><td style = \"text-align: left;\">X5HMX4</td><td style = \"text-align: left;\">GO:0003674</td><td style = \"text-align: left;\">MFO</td></tr></tbody></table></div>"
      ],
      "text/latex": [
       "GroupedDataFrame with 142246 groups based on key: EntryID\n",
       "\n",
       "First Group (35 rows): EntryID = \"A0A009IHW8\"\n",
       "\n",
       "\\begin{tabular}{r|ccc}\n",
       "\t& EntryID & term & aspect\\\\\n",
       "\t\\hline\n",
       "\t& String15 & String15 & String3\\\\\n",
       "\t\\hline\n",
       "\t1 & A0A009IHW8 & GO:0008152 & BPO \\\\\n",
       "\t2 & A0A009IHW8 & GO:0034655 & BPO \\\\\n",
       "\t3 & A0A009IHW8 & GO:0044270 & BPO \\\\\n",
       "\t4 & A0A009IHW8 & GO:0006753 & BPO \\\\\n",
       "\t5 & A0A009IHW8 & GO:0044237 & BPO \\\\\n",
       "\t6 & A0A009IHW8 & GO:1901360 & BPO \\\\\n",
       "\t7 & A0A009IHW8 & GO:0008150 & BPO \\\\\n",
       "\t8 & A0A009IHW8 & GO:1901564 & BPO \\\\\n",
       "\t9 & A0A009IHW8 & GO:1901565 & BPO \\\\\n",
       "\t10 & A0A009IHW8 & GO:0009117 & BPO \\\\\n",
       "\t11 & A0A009IHW8 & GO:0006139 & BPO \\\\\n",
       "\t12 & A0A009IHW8 & GO:0044281 & BPO \\\\\n",
       "\t13 & A0A009IHW8 & GO:0046483 & BPO \\\\\n",
       "\t14 & A0A009IHW8 & GO:0055086 & BPO \\\\\n",
       "\t15 & A0A009IHW8 & GO:0044248 & BPO \\\\\n",
       "\t16 & A0A009IHW8 & GO:0019439 & BPO \\\\\n",
       "\t17 & A0A009IHW8 & GO:0019637 & BPO \\\\\n",
       "\t18 & A0A009IHW8 & GO:0006807 & BPO \\\\\n",
       "\t19 & A0A009IHW8 & GO:1901361 & BPO \\\\\n",
       "\t20 & A0A009IHW8 & GO:0006163 & BPO \\\\\n",
       "\t21 & A0A009IHW8 & GO:0046700 & BPO \\\\\n",
       "\t22 & A0A009IHW8 & GO:0009987 & BPO \\\\\n",
       "\t23 & A0A009IHW8 & GO:0006725 & BPO \\\\\n",
       "\t24 & A0A009IHW8 & GO:0006796 & BPO \\\\\n",
       "\t25 & A0A009IHW8 & GO:0034641 & BPO \\\\\n",
       "\t26 & A0A009IHW8 & GO:0072521 & BPO \\\\\n",
       "\t27 & A0A009IHW8 & GO:0071704 & BPO \\\\\n",
       "\t28 & A0A009IHW8 & GO:1901575 & BPO \\\\\n",
       "\t29 & A0A009IHW8 & GO:0009056 & BPO \\\\\n",
       "\t30 & A0A009IHW8 & GO:0044238 & BPO \\\\\n",
       "\t$\\dots$ & $\\dots$ & $\\dots$ & $\\dots$ \\\\\n",
       "\\end{tabular}\n",
       "\n",
       "$\\dots$\n",
       "\n",
       "Last Group (3 rows): EntryID = \"X5HMX4\"\n",
       "\n",
       "\\begin{tabular}{r|ccc}\n",
       "\t& EntryID & term & aspect\\\\\n",
       "\t\\hline\n",
       "\t& String15 & String15 & String3\\\\\n",
       "\t\\hline\n",
       "\t1 & X5HMX4 & GO:0005515 & MFO \\\\\n",
       "\t2 & X5HMX4 & GO:0005488 & MFO \\\\\n",
       "\t3 & X5HMX4 & GO:0003674 & MFO \\\\\n",
       "\\end{tabular}\n"
      ],
      "text/plain": [
       "GroupedDataFrame with 142246 groups based on key: EntryID\n",
       "First Group (35 rows): EntryID = \"A0A009IHW8\"\n",
       "\u001b[1m Row \u001b[0m│\u001b[1m EntryID    \u001b[0m\u001b[1m term       \u001b[0m\u001b[1m aspect  \u001b[0m\n",
       "     │\u001b[90m String15   \u001b[0m\u001b[90m String15   \u001b[0m\u001b[90m String3 \u001b[0m\n",
       "─────┼─────────────────────────────────\n",
       "   1 │ A0A009IHW8  GO:0008152  BPO\n",
       "   2 │ A0A009IHW8  GO:0034655  BPO\n",
       "   3 │ A0A009IHW8  GO:0044270  BPO\n",
       "   4 │ A0A009IHW8  GO:0006753  BPO\n",
       "   5 │ A0A009IHW8  GO:0044237  BPO\n",
       "   6 │ A0A009IHW8  GO:1901360  BPO\n",
       "  ⋮  │     ⋮           ⋮          ⋮\n",
       "  30 │ A0A009IHW8  GO:0044238  BPO\n",
       "  31 │ A0A009IHW8  GO:0006793  BPO\n",
       "  32 │ A0A009IHW8  GO:0003674  MFO\n",
       "  33 │ A0A009IHW8  GO:0016787  MFO\n",
       "  34 │ A0A009IHW8  GO:0016798  MFO\n",
       "  35 │ A0A009IHW8  GO:0003824  MFO\n",
       "\u001b[36m                        23 rows omitted\u001b[0m\n",
       "⋮\n",
       "Last Group (3 rows): EntryID = \"X5HMX4\"\n",
       "\u001b[1m Row \u001b[0m│\u001b[1m EntryID  \u001b[0m\u001b[1m term       \u001b[0m\u001b[1m aspect  \u001b[0m\n",
       "     │\u001b[90m String15 \u001b[0m\u001b[90m String15   \u001b[0m\u001b[90m String3 \u001b[0m\n",
       "─────┼───────────────────────────────\n",
       "   1 │ X5HMX4    GO:0005515  MFO\n",
       "   2 │ X5HMX4    GO:0005488  MFO\n",
       "   3 │ X5HMX4    GO:0003674  MFO"
      ]
     },
     "execution_count": 10,
     "metadata": {},
     "output_type": "execute_result"
    }
   ],
   "source": [
    "term_ft = freqtable(train_terms,:term) |> sort |> reverse\n",
    "num_labels = 1500\n",
    "top_terms = term_ft[1:num_labels] |> names |> y->y[1]\n",
    "train_terms_updated = filter(row->row.term in top_terms,train_terms)\n",
    "gdf = groupby(train_terms_updated,:EntryID)"
   ]
  },
  {
   "cell_type": "markdown",
   "id": "b1ddd671-c5fc-45ee-bccb-042a2612579a",
   "metadata": {
    "tags": []
   },
   "source": [
    "## Training Iterations"
   ]
  },
  {
   "cell_type": "code",
   "execution_count": 15,
   "id": "e25adb8a-5a92-4271-bdc6-d844a7701e19",
   "metadata": {
    "tags": []
   },
   "outputs": [
    {
     "name": "stdout",
     "output_type": "stream",
     "text": [
      "Starting DataRetrieval for run CAFAT5Embeddings_NN\n",
      "processing CAFAT5Embeddings_NN...\n",
      "Retrieving all feature records for datasets:61u6akz831fm28kc2o7v\n",
      "Caching feature records for future batches.\n",
      "Fetching batch 1 of 10 Batch 1 complete in 6.545966594s\n",
      "Fetching batch 2 of 10 Batch 2 complete in 5.746395408s\n",
      "Fetching batch 3 of 10 Batch 3 complete in 5.601333508s\n",
      "Fetching batch 4 of 10 Batch 4 complete in 5.563351412s\n",
      "Fetching batch 5 of 10 Batch 5 complete in 5.514220862s\n",
      "Fetching batch 6 of 10 Batch 6 complete in 5.26713768s\n",
      "Fetching batch 7 of 10 Batch 7 complete in 5.478087843s\n",
      "Fetching batch 8 of 10 Batch 8 complete in 5.240745615s\n",
      "Fetching batch 9 of 10 Batch 9 complete in 5.342034728s\n",
      "Fetching batch 10 of 10 Batch 10 complete in 2.497972392s\n",
      " 85.599866 seconds (3.89 M allocations: 7.056 GiB, 0.20% gc time)\n",
      "Creating labels for run CAFAT5Embeddings_NN\n"
     ]
    },
    {
     "name": "stderr",
     "output_type": "stream",
     "text": [
      "\u001b[32mProgress: 100%|█████████████████████████████████████████| Time: 0:00:53\u001b[39m\n"
     ]
    },
    {
     "name": "stdout",
     "output_type": "stream",
     "text": [
      "Starting training for run CAFAT5Embeddings_NN\n"
     ]
    },
    {
     "name": "stderr",
     "output_type": "stream",
     "text": [
      "\u001b[32mProgress: 100%|█████████████████████████████████████████| Time: 0:00:49\u001b[39m\n"
     ]
    },
    {
     "name": "stdout",
     "output_type": "stream",
     "text": [
      "Training complete for run CAFAT5Embeddings_NN\n",
      "Starting DataRetrieval for run CAFAESMEmbeddings_NN\n",
      "processing CAFAESMEmbeddings_NN...\n",
      "Retrieving all feature records for datasets:61u6akz831fm28kc2o7v\n",
      "Caching feature records for future batches.\n",
      "Fetching batch 1 of 10 Batch 1 complete in 6.841645775s\n",
      "Fetching batch 2 of 10 Batch 2 complete in 6.811802079s\n",
      "Fetching batch 3 of 10 Batch 3 complete in 6.506057629s\n",
      "Fetching batch 4 of 10 Batch 4 complete in 6.463445093s\n",
      "Fetching batch 5 of 10 Batch 5 complete in 6.480391223s\n",
      "Fetching batch 6 of 10 Batch 6 complete in 6.135304518s\n",
      "Fetching batch 7 of 10 Batch 7 complete in 6.1036452s\n",
      "Fetching batch 8 of 10 Batch 8 complete in 6.066491464s\n",
      "Fetching batch 9 of 10 Batch 9 complete in 6.260540593s\n",
      "Fetching batch 10 of 10 Batch 10 complete in 2.888960014s\n",
      " 98.869827 seconds (3.84 M allocations: 8.235 GiB, 0.49% gc time)\n",
      "Creating labels for run CAFAESMEmbeddings_NN\n"
     ]
    },
    {
     "name": "stderr",
     "output_type": "stream",
     "text": [
      "\u001b[32mProgress: 100%|█████████████████████████████████████████| Time: 0:00:52\u001b[39m\n"
     ]
    },
    {
     "name": "stdout",
     "output_type": "stream",
     "text": [
      "Starting training for run CAFAESMEmbeddings_NN\n"
     ]
    },
    {
     "name": "stderr",
     "output_type": "stream",
     "text": [
      "\u001b[32mProgress: 100%|█████████████████████████████████████████| Time: 0:00:04\u001b[39m\n"
     ]
    },
    {
     "name": "stdout",
     "output_type": "stream",
     "text": [
      "Training complete for run CAFAESMEmbeddings_NN\n",
      "Starting DataRetrieval for run CAFACombinedT5ESMEmbeddings_NN\n",
      "processing CAFACombinedT5ESMEmbeddings_NN...\n",
      "Retrieving all feature records for datasets:61u6akz831fm28kc2o7v\n",
      "Caching feature records for future batches.\n",
      "Fetching batch 1 of 10 Batch 1 complete in 10.6906098s\n",
      "Fetching batch 2 of 10 Batch 2 complete in 9.909013349s\n",
      "Fetching batch 3 of 10 Batch 3 complete in 9.665646859s\n",
      "Fetching batch 4 of 10 Batch 4 complete in 9.698247981s\n",
      "Fetching batch 5 of 10 Batch 5 complete in 9.540985515s\n",
      "Fetching batch 6 of 10 Batch 6 complete in 9.279997473s\n",
      "Fetching batch 7 of 10 Batch 7 complete in 9.353314598s\n",
      "Fetching batch 8 of 10 Batch 8 complete in 9.366351574s\n",
      "Fetching batch 9 of 10 Batch 9 complete in 9.541592526s\n",
      "Fetching batch 10 of 10 Batch 10 complete in 4.278301745s\n",
      "159.306861 seconds (4.02 M allocations: 14.450 GiB, 0.46% gc time)\n",
      "Creating labels for run CAFACombinedT5ESMEmbeddings_NN\n"
     ]
    },
    {
     "name": "stderr",
     "output_type": "stream",
     "text": [
      "\u001b[32mProgress: 100%|█████████████████████████████████████████| Time: 0:00:50\u001b[39m\n"
     ]
    },
    {
     "name": "stdout",
     "output_type": "stream",
     "text": [
      "Starting training for run CAFACombinedT5ESMEmbeddings_NN\n"
     ]
    },
    {
     "name": "stderr",
     "output_type": "stream",
     "text": [
      "\u001b[32mProgress: 100%|█████████████████████████████████████████| Time: 0:00:05\u001b[39m\n"
     ]
    },
    {
     "name": "stdout",
     "output_type": "stream",
     "text": [
      "Training complete for run CAFACombinedT5ESMEmbeddings_NN\n",
      "626.820181 seconds (3.94 G allocations: 187.388 GiB, 2.06% gc time, 0.01% compilation time)\n"
     ]
    }
   ],
   "source": [
    "@time res = trainBatches(run_declarations);"
   ]
  },
  {
   "cell_type": "code",
   "execution_count": 19,
   "id": "311b4d6f-38e9-407b-82dc-b7411f0310d5",
   "metadata": {
    "tags": []
   },
   "outputs": [
    {
     "name": "stdout",
     "output_type": "stream",
     "text": [
      "Binary Accuracy for CAFAT5Embeddings_NN: 0.9803\n",
      "Binary Accuracy for CAFAESMEmbeddings_NN: 0.9798\n",
      "Binary Accuracy for CAFACombinedT5ESMEmbeddings_NN: 0.9804\n"
     ]
    }
   ],
   "source": [
    "foreach(res) do result\n",
    "    println(\"Binary Accuracy for $(result[\"runName\"]): $(round(result[\"result_binaryAccuracy\"],digits = 4))\")\n",
    "end"
   ]
  },
  {
   "cell_type": "code",
   "execution_count": 21,
   "id": "7cec7c09-5248-4a53-8869-1d09af18df5d",
   "metadata": {
    "tags": []
   },
   "outputs": [
    {
     "data": {
      "text/plain": [
       "Dict{String, Any} with 15 entries:\n",
       "  \"datasetID\"             => \"datasets:61u6akz831fm28kc2o7v\"\n",
       "  \"modelSaveLoc\"          => \"./models\"\n",
       "  \"runName\"               => \"CAFAT5Embeddings_NN\"\n",
       "  \"sampleNameCol\"         => \"uniprot_id\"\n",
       "  \"result_modelState\"     => (layers = ((λ = (), β = Float32[-0.0129818, -0.006…\n",
       "  \"result_model\"          => Chain(BatchNorm(1024), Dense(1024 => 512, relu), D…\n",
       "  \"pipeline_data\"         => Any[{…\n",
       "  \"result_loss\"           => Any[0.700808, 0.652192, 0.584157, 0.469541, 0.3273…\n",
       "  \"result_testingModel\"   => Chain(BatchNorm(1024, active=false), Dense(1024 =>…\n",
       "  \"pipeline_featureIDs\"   => [\"features:A0A009IHW8\", \"features:A0A021WW32\", \"fe…\n",
       "  \"pipeline_df\"           => \u001b[1m1024×142246 DataFrame\u001b[0m\u001b[0m…\n",
       "  \"pipeline_featureDims\"  => (1024, 142246)\n",
       "  \"result_binaryAccuracy\" => 0.980346\n",
       "  \"featureQuery\"          => \"select feature_t5_embed as t5 ,uniprot_id from {{…\n",
       "  \"featureName\"           => \"t5\""
      ]
     },
     "execution_count": 21,
     "metadata": {},
     "output_type": "execute_result"
    }
   ],
   "source": [
    "res[1]"
   ]
  },
  {
   "cell_type": "code",
   "execution_count": null,
   "id": "de78115c-5053-4f7b-9a7f-56a506a7bf18",
   "metadata": {},
   "outputs": [],
   "source": []
  }
 ],
 "metadata": {
  "kernelspec": {
   "display_name": "Julia 1.9.2",
   "language": "julia",
   "name": "julia-1.9"
  },
  "language_info": {
   "file_extension": ".jl",
   "mimetype": "application/julia",
   "name": "julia",
   "version": "1.9.2"
  }
 },
 "nbformat": 4,
 "nbformat_minor": 5
}
